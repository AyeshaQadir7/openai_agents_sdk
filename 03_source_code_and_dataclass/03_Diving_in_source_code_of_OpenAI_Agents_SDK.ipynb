{
  "nbformat": 4,
  "nbformat_minor": 0,
  "metadata": {
    "colab": {
      "provenance": []
    },
    "kernelspec": {
      "name": "python3",
      "display_name": "Python 3"
    },
    "language_info": {
      "name": "python"
    }
  },
  "cells": [
    {
      "cell_type": "markdown",
      "source": [
        "# **OpenAI Agents SDK Source Code**\n"
      ],
      "metadata": {
        "id": "NsdM3oRK3yq7"
      }
    },
    {
      "cell_type": "markdown",
      "source": [
        "## **Why Learn from the Source?**\n",
        "Exploring the SDK's source code helps you:\n",
        "\n",
        "* Understand how agents, tools, loops, handoffs, guardrails, sessions, and tracing are actually implemented—not just how they work conceptually\n",
        "\n",
        "* Gain confidence to extend and customize the SDK for your use cases.\n",
        "\n",
        "* Learn best practices from a production-grade, open-source Python project."
      ],
      "metadata": {
        "id": "5osYTEJd3_ZE"
      }
    },
    {
      "cell_type": "markdown",
      "source": [
        "---\n",
        "\n",
        "In the **OpenAI Agents SDK**, Python’s ```@dataclass``` is used to make defining agent-related objects cleaner, safer, and easier to maintain especially for things like **Agent configuration, tool definitions, and handoffs.**\n",
        "\n",
        "---\n",
        "\n"
      ],
      "metadata": {
        "id": "zxt2UYY61mzJ"
      }
    },
    {
      "cell_type": "markdown",
      "source": [
        "## **Quick Refresh: What’s a** ```dataclass?```\n",
        "A dataclass in Python is a decorator (@dataclass) that automatically generates:\n",
        "* ```__init__``` (constructor)\n",
        "* ```__repr__``` (string representation)\n",
        "* ```__eq__``` (comparison)\n",
        "* Other utility methods\n",
        "\n",
        "You use it when you want a class that’s mostly just data without writing a lot of boilerplate.\n",
        "\n",
        "Example:\n",
        "\n",
        "```\n",
        "from dataclasses import dataclass\n",
        "\n",
        "@dataclass\n",
        "class Agent:\n",
        "    name: str\n",
        "    instructions: str\n",
        "    model: str\n",
        "```\n",
        "\n",
        "```\n",
        "agent = Agent(name=\"MathBot\", instructions=\"Solve math problems\", model=\"gpt-4o\")\n",
        "print(agent)\n",
        "```"
      ],
      "metadata": {
        "id": "4B9dvmSH2dG0"
      }
    },
    {
      "cell_type": "code",
      "source": [
        "from dataclasses import dataclass"
      ],
      "metadata": {
        "id": "-bruMMQWoWZ9"
      },
      "execution_count": null,
      "outputs": []
    },
    {
      "cell_type": "code",
      "source": [
        "from typing import ClassVar\n",
        "\n",
        "@dataclass\n",
        "class American:\n",
        "  name: str\n",
        "  age: int\n",
        "  weight: float\n",
        "  liked_food: str\n",
        "\n",
        "  normal_body_temp: ClassVar[float] = 98.6\n",
        "  national_language: ClassVar[str] = \"English\" #[] generics\n",
        "  national_food: ClassVar[str] = \"Hamburger\"\n",
        "\n",
        "  def speaks(self):\n",
        "    return f\"{self.name} is speaking... {American.national_language}\"\n",
        "\n",
        "  def eats(self):\n",
        "    return f\"{self.name} is eating...\"\n",
        "\n",
        "  @staticmethod\n",
        "  def country_lang():\n",
        "    return American.national_language"
      ],
      "metadata": {
        "id": "AhGbww1ooi4K"
      },
      "execution_count": null,
      "outputs": []
    },
    {
      "cell_type": "code",
      "source": [
        "jhon = American(name=\"Jhon\", age=22, weight=60, liked_food=\"pizza\")\n",
        "print(jhon.speaks())\n",
        "print(jhon.eats())"
      ],
      "metadata": {
        "colab": {
          "base_uri": "https://localhost:8080/"
        },
        "id": "XKUyD6YZrgAg",
        "outputId": "d8148566-4c67-4789-d0fc-cbd1e5f57f57"
      },
      "execution_count": null,
      "outputs": [
        {
          "output_type": "stream",
          "name": "stdout",
          "text": [
            "Jhon is speaking... English\n",
            "Jhon is eating...\n"
          ]
        }
      ]
    },
    {
      "cell_type": "code",
      "source": [
        "print(jhon)\n",
        "print(jhon.name)\n",
        "print(jhon.age)\n",
        "print(jhon.weight)\n",
        "print(jhon.liked_food)\n",
        "print(American.national_language)"
      ],
      "metadata": {
        "colab": {
          "base_uri": "https://localhost:8080/"
        },
        "id": "VGNiaqJXs_yX",
        "outputId": "2e6bb6da-4438-474a-ca32-f437bdb2f16c"
      },
      "execution_count": null,
      "outputs": [
        {
          "output_type": "stream",
          "name": "stdout",
          "text": [
            "American(name='Jhon', age=22, weight=60, liked_food='pizza')\n",
            "Jhon\n",
            "22\n",
            "60\n",
            "pizza\n",
            "English\n"
          ]
        }
      ]
    },
    {
      "cell_type": "markdown",
      "source": [
        "## **What Are Magic Methods?**\n",
        "In Python, magic methods are special methods that start and end with two underscores (e.g., __init__, __str__, __call__).\n",
        "They let you customize how your objects behave in built-in Python operations.\n"
      ],
      "metadata": {
        "id": "rzbWB7dUCkOw"
      }
    },
    {
      "cell_type": "markdown",
      "source": [
        "| Magic Method  | When It’s Called                          | Example           |\n",
        "| ------------- | ----------------------------------------- | ----------------- |\n",
        "| `__init__`    | When object is created                    | `obj = MyClass()` |\n",
        "| `__str__`     | When printing with `print(obj)`           | `\"My object\"`     |\n",
        "| `__repr__`    | When shown in interpreter or debugging    | `\"MyClass(...)\"`  |\n",
        "| `__len__`     | When using `len(obj)`                     | `3`               |\n",
        "| `__getitem__` | When using `obj[key]`                     | `value`           |\n",
        "| `__setitem__` | When assigning `obj[key] = value`         | updates item      |\n",
        "| `__call__`    | When you “call” an object like a function | `obj()`           |\n",
        "| `__eq__`      | When comparing with `==`                  | `True`/`False`    |\n"
      ],
      "metadata": {
        "id": "a7rqnYWyCU1z"
      }
    },
    {
      "cell_type": "code",
      "source": [
        "@dataclass\n",
        "class Human:\n",
        "  name: str\n",
        "  age: int\n",
        "\n",
        "  def greet(self):\n",
        "    return f\"Hello, I'm {self.name}\"\n",
        "\n",
        "  def works(self):\n",
        "    return f\"I am working\"\n",
        " # Magic method, dunder\n",
        "  def __call__(self):\n",
        "    return f\"H  i\"\n"
      ],
      "metadata": {
        "id": "W1X8qPWHnrRy"
      },
      "execution_count": null,
      "outputs": []
    },
    {
      "cell_type": "code",
      "source": [
        "obj1 = Human(name=\"Jhon\", age=20)\n",
        "print(obj1.name)\n",
        "print(obj1.age)\n",
        "print(obj1.greet())\n",
        "print(obj1.works())"
      ],
      "metadata": {
        "colab": {
          "base_uri": "https://localhost:8080/"
        },
        "id": "SnZBDXp6oy4g",
        "outputId": "011da92a-471a-4fd3-97fc-29a2ee52966a"
      },
      "execution_count": null,
      "outputs": [
        {
          "output_type": "stream",
          "name": "stdout",
          "text": [
            "Jhon\n",
            "20\n",
            "Hello, I'm Jhon\n",
            "I am working\n"
          ]
        }
      ]
    },
    {
      "cell_type": "code",
      "source": [
        "obj1()"
      ],
      "metadata": {
        "colab": {
          "base_uri": "https://localhost:8080/",
          "height": 35
        },
        "id": "gtmlPxPcoz-I",
        "outputId": "3375e87f-c157-427e-a502-a5c547436faf"
      },
      "execution_count": null,
      "outputs": [
        {
          "output_type": "execute_result",
          "data": {
            "text/plain": [
              "'Hi'"
            ],
            "application/vnd.google.colaboratory.intrinsic+json": {
              "type": "string"
            }
          },
          "metadata": {},
          "execution_count": 15
        }
      ]
    },
    {
      "cell_type": "code",
      "source": [
        "def greet():\n",
        "  return \"hello\"\n",
        "\n",
        "dir(greet)"
      ],
      "metadata": {
        "id": "wQI4zJOTnSLb"
      },
      "execution_count": null,
      "outputs": []
    }
  ]
}