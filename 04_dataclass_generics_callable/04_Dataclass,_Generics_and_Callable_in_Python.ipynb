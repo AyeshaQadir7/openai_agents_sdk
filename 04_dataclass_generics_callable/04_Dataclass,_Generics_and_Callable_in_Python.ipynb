{
  "nbformat": 4,
  "nbformat_minor": 0,
  "metadata": {
    "colab": {
      "provenance": []
    },
    "kernelspec": {
      "name": "python3",
      "display_name": "Python 3"
    },
    "language_info": {
      "name": "python"
    }
  },
  "cells": [
    {
      "cell_type": "markdown",
      "source": [
        "## **Dataclasses**\n",
        "\n",
        "A dataclass is a decorator in Python (@dataclass) that makes it easier to write classes that are mostly used to store data.\n",
        "\n",
        "\n",
        "Instead of writing lots of boilerplate code (__ init __ , __ repr __ , __ eq __), Python auto-generates them."
      ],
      "metadata": {
        "id": "B5Ax9z6qAqbI"
      }
    },
    {
      "cell_type": "code",
      "source": [
        "from dataclasses import dataclass\n",
        "\n",
        "@dataclass\n",
        "class Agent:\n",
        "    name: str\n",
        "    model: str\n",
        "    instructions: str\n",
        "\n",
        "bot = Agent(name=\"MathBot\", model=\"gpt-4o\", instructions=\"Solve math\")\n",
        "print(bot)   # Agent(name='MathBot', model='gpt-4o', instructions='Solve math')\n"
      ],
      "metadata": {
        "colab": {
          "base_uri": "https://localhost:8080/"
        },
        "id": "F3si449mRZWw",
        "outputId": "2c0ec65d-f179-400f-abee-edfd265c5674"
      },
      "execution_count": null,
      "outputs": [
        {
          "output_type": "stream",
          "name": "stdout",
          "text": [
            "Agent(name='MathBot', model='gpt-4o', instructions='Solve math')\n"
          ]
        }
      ]
    },
    {
      "cell_type": "markdown",
      "source": [
        "**Use case:** Perfect for configs, models, structured objects.\n",
        "In Agents SDK, Agent objects and Tool definitions are dataclasses because they’re just structured data with fields."
      ],
      "metadata": {
        "id": "9MkgpfliRnB3"
      }
    },
    {
      "cell_type": "code",
      "source": [
        "from dataclasses import dataclass, field\n",
        "# from typing import Optional\n",
        "@dataclass\n",
        "\n",
        "class Person:\n",
        "  name: str\n",
        "  age: int\n",
        "  # email: Optional[str] = None\n",
        "  email: str | None = None\n",
        "\n",
        "  # using feild() with default_factory for mutable default values\n",
        "  # tags: List[] # Bad practice\n",
        "  tags: list[str] = field(default_factory=list)\n",
        "\n",
        "  def is_adult(self) -> bool:\n",
        "    \"\"\"Example method that uses the dataclass attributes.\"\"\"\n",
        "    return self.age >= 18\n",
        "\n",
        "# Usage example\n",
        "def demo_good_usage():\n",
        "  # Creatiing instances\n",
        "  person1 = Person(name= \"Alice\", age=22, email=\"alice@example.com\")\n",
        "  person2 = Person(name= \"Bob\", age=25)\n",
        "  person3 = Person(name=\"Charles\", age=19, tags=[\"student\", \"part-time\"])\n",
        "\n",
        "\n",
        "  # Adding to a mutable filed\n",
        "  person1.tags.append(\"developer\")\n",
        "\n",
        "  print(f\"Person 1: {person1}\")\n",
        "  print(f\"Person 2: {person2}\")\n",
        "  print(f\"Person 3: {person3}\")\n",
        "\n",
        "\n",
        "  # Using the instance method\n",
        "  print(f\"Is {person1.name} an adult? {person1.is_adult()}\")\n",
        "  print(f\"Is {person3.name} an adult? {person3.is_adult()}\")\n",
        "\n",
        "\n",
        "if __name__ == \"__main__\":\n",
        "  print(\"=== Good Dataclass Example ===\")\n",
        "  demo_good_usage()"
      ],
      "metadata": {
        "id": "8TIfzvLMDhid",
        "colab": {
          "base_uri": "https://localhost:8080/"
        },
        "outputId": "f8fce46e-f7e6-4ecc-a63b-863ae099b16a"
      },
      "execution_count": null,
      "outputs": [
        {
          "output_type": "stream",
          "name": "stdout",
          "text": [
            "=== Good Dataclass Example ===\n",
            "Person 1: Person(name='Alice', age=22, email='alice@example.com', tags=['developer'])\n",
            "Person 2: Person(name='Bob', age=25, email=None, tags=[])\n",
            "Person 3: Person(name='Charles', age=19, email=None, tags=['student', 'part-time'])\n",
            "Is Alice an adult? True\n",
            "Is Charles an adult? True\n"
          ]
        }
      ]
    },
    {
      "cell_type": "code",
      "source": [
        "# Bad Example: Class without dataclass\n",
        "class PersonBad:\n",
        "  def __init__(self, name, age, email=None, tags=None):\n",
        "    self.name = name\n",
        "    self.age = age\n",
        "    self.email = email\n",
        "    # Common mistake: mutable default\n",
        "    self.tags = tags if tags is not None else[]\n",
        "\n",
        "\n",
        "  # Have to manually define string represntation\n",
        "  def __repr__(self):\n",
        "    return f\"PersonBad(name={self.name}, age={self.age}, email={self.email}, tags={self.tags})\"\n",
        "\n",
        "  # Have to manually define equality\n",
        "  def __eq__(self, other):\n",
        "    if not isinstance(other, PersonBad):\n",
        "      return False\n",
        "    return(self.name == other.name and\n",
        "           self.age == other.age and\n",
        "           self.email == other.email and\n",
        "           self.tags == other.tags)\n",
        "\n",
        "def demo_bad_usage():\n",
        "  # More verbose and error-prone without dataclass\n",
        "  person1 = PersonBad(\"Alice\", 30, \"alice@example.come\")\n",
        "  person2 = PersonBad(\"Bob\", 25)\n",
        "\n",
        "  print(f\"Person 1: {person1}\")\n",
        "  print(f\"Person 2: {person2}\")\n",
        "\n",
        "\n",
        "if __name__ == \"__main__\":\n",
        "  print(\"=== Bad Dataclass Example ===\")\n",
        "  demo_bad_usage()"
      ],
      "metadata": {
        "id": "36wLaTImGzyP",
        "colab": {
          "base_uri": "https://localhost:8080/"
        },
        "outputId": "7c24c891-06dd-4fe2-9617-2a19867c31e8"
      },
      "execution_count": null,
      "outputs": [
        {
          "output_type": "stream",
          "name": "stdout",
          "text": [
            "=== Bad Dataclass Example ===\n",
            "Person 1: PersonBad(name=Alice, age=30, email=alice@example.come, tags=[])\n",
            "Person 2: PersonBad(name=Bob, age=25, email=None, tags=[])\n"
          ]
        }
      ]
    },
    {
      "cell_type": "markdown",
      "source": [
        "## **Callable**\n",
        "\n",
        "Callable (from typing) describes something you can call like a function.\n",
        "This could be:\n",
        "* a function\n",
        "* a method\n",
        "* a class with __call__\n",
        "\n",
        "When you use it inside a @dataclass, you’re saying: “This field should hold a function with a specific signature.”"
      ],
      "metadata": {
        "id": "dGp-sQ3SSFFV"
      }
    },
    {
      "cell_type": "markdown",
      "source": [
        "**Use case:** In the Agents SDK, tools are often stored as Callables, the agent can call them when needed."
      ],
      "metadata": {
        "id": "ReljNWPbST9U"
      }
    },
    {
      "cell_type": "code",
      "source": [
        "from dataclasses import dataclass\n",
        "from typing import Callable\n",
        "\n",
        "@dataclass\n",
        "class Calculator:\n",
        "  operation: Callable[[int, int], int] #function taking (int, int) -> int\n",
        "\n",
        "def add(x:int, y:int) -> int:\n",
        "  return x + y\n",
        "\n",
        "calc = Calculator(operation=add)\n",
        "print(calc.operation(5,3))"
      ],
      "metadata": {
        "colab": {
          "base_uri": "https://localhost:8080/"
        },
        "id": "UO4iS861B1R-",
        "outputId": "dc7c7aee-cfb1-4f9e-d0f9-bb475dada701"
      },
      "execution_count": null,
      "outputs": [
        {
          "output_type": "stream",
          "name": "stdout",
          "text": [
            "8\n"
          ]
        }
      ]
    },
    {
      "cell_type": "markdown",
      "source": [
        "``` Callable [[int, int], int] ``` means → function takes two ints, returns int.\n",
        "\n",
        "add matches this signature, so it works."
      ],
      "metadata": {
        "id": "vOVbWQa8CrKU"
      }
    },
    {
      "cell_type": "markdown",
      "source": [
        "## **Generics**\n",
        "\n",
        "Generics let you write classes or functions that work with many types, while still being type safe.\n",
        "Instead of fixing a type (like int or str), you use a placeholder type.\n",
        "\n",
        "They come from typing.Generic and TypeVar.\n",
        "\n"
      ],
      "metadata": {
        "id": "piR8kmZORu3m"
      }
    },
    {
      "cell_type": "markdown",
      "source": [
        "**Use case:** Generics are used in SDKs and libraries when you want to make flexible but type-safe abstractions."
      ],
      "metadata": {
        "id": "xeCBhkAOSA4v"
      }
    },
    {
      "cell_type": "markdown",
      "source": [
        "**Simple Example Without Generics**"
      ],
      "metadata": {
        "id": "nR5cQVsahUot"
      }
    },
    {
      "cell_type": "code",
      "source": [
        "class Box:\n",
        "    def __init__(self, item):\n",
        "        self.item = item\n",
        "\n",
        "int_box = Box(5)\n",
        "str_box = Box(\"hello\")\n",
        "\n",
        "print(int_box.item + 2)       # works\n",
        "print(str_box.item + \"!!!\")   # works\n",
        "print(str_box.item + 5)       # runtime error, no warning\n",
        "\n"
      ],
      "metadata": {
        "collapsed": true,
        "id": "lgTue9R2hMae"
      },
      "execution_count": null,
      "outputs": []
    },
    {
      "cell_type": "markdown",
      "source": [
        "**Generics to the Rescue**"
      ],
      "metadata": {
        "id": "vEkbE-Nchp_r"
      }
    },
    {
      "cell_type": "code",
      "source": [
        "from typing import TypeVar\n",
        "\n",
        "T = TypeVar(\"T\") # T represents a generic type"
      ],
      "metadata": {
        "id": "V69iNZySlOz7"
      },
      "execution_count": null,
      "outputs": []
    },
    {
      "cell_type": "markdown",
      "source": [
        "* T is a placeholder that can be **replaced with any type** when the function is called.\n",
        "* The **actual type is inferred at runtime.**"
      ],
      "metadata": {
        "id": "UEg4vZbrldTB"
      }
    },
    {
      "cell_type": "code",
      "source": [
        "from typing import TypeVar\n",
        "\n",
        "# Type variable for generic typing\n",
        "T = TypeVar('T')\n",
        "\n",
        "def first_item(items: list[T]) -> T:\n",
        "  return items[0]\n",
        "\n",
        "print(first_item([1, 2, 3])) # int\n",
        "print(first_item[\"a\", \"b\"]) # str"
      ],
      "metadata": {
        "id": "JNA6FoOTlycN"
      },
      "execution_count": null,
      "outputs": []
    },
    {
      "cell_type": "markdown",
      "source": [
        "## **Dataclass VS Pydantic VS Mypy**"
      ],
      "metadata": {
        "id": "-wlj31xtNgok"
      }
    },
    {
      "cell_type": "markdown",
      "source": [
        "## **1. Dataclass**\n",
        "\n",
        "### **What it is:**\n",
        "Built-in to Python (from dataclasses import dataclass).\n",
        "Lets you define plain data containers with less boilerplate.\n",
        "\n",
        "### **What it gives you:**\n",
        "* Auto-generates ```__init__, __repr__, __eq__```\n",
        "* Works well with type hints (but doesn’t enforce them)\n",
        "* Very lightweight\n",
        "\n",
        "\n",
        "### **Limitations:**\n",
        "\n",
        "* No runtime type checking\n",
        "* If you pass wrong types, it won’t complain\n",
        "\n",
        "✅ Great for structuring data\n",
        "❌ Not safe if you need validation"
      ],
      "metadata": {
        "id": "Y3k0bmfvNrvT"
      }
    },
    {
      "cell_type": "code",
      "source": [
        "from dataclasses import dataclass\n",
        "\n",
        "@dataclass\n",
        "class User:\n",
        "    id: int\n",
        "    name: str\n",
        "\n",
        "u = User(id=\"123\", name=42)   # ❌ types wrong\n",
        "print(u)  # Still works! No error until later\n"
      ],
      "metadata": {
        "id": "PQ_Y3tHGQz-4"
      },
      "execution_count": null,
      "outputs": []
    },
    {
      "cell_type": "markdown",
      "source": [
        "## **2. Pydantic**\n",
        "\n",
        "### **What it is:**\n",
        "External library (pip install pydantic)\n",
        "Provides data models with runtime validation and parsing.\n",
        "\n",
        "### **What it gives you:**\n",
        "\n",
        "* Validates input at runtime\n",
        "* Automatically converts types when possible\n",
        "* Good error messages\n",
        "* Commonly used in FastAPI, LLM apps, etc."
      ],
      "metadata": {
        "id": "jmUsa21BQ13b"
      }
    },
    {
      "cell_type": "code",
      "source": [
        "from pydantic import BaseModel\n",
        "\n",
        "class User(BaseModel):\n",
        "    id: int\n",
        "    name: str\n",
        "\n",
        "u = User(id=\"123\", name=42)\n",
        "print(u)   # User id=123 name='42'\n"
      ],
      "metadata": {
        "id": "q7_FGO9kSPp8"
      },
      "execution_count": null,
      "outputs": []
    },
    {
      "cell_type": "markdown",
      "source": [
        "**Notice:**\n",
        "* \"123\" (string) was converted to 123 (int)\n",
        "* 42 (int) was converted to \"42\" (str)\n",
        "\n",
        "✅ Great for APIs, config, external data\n",
        "❌ Heavier than dataclass, slower for huge datasets"
      ],
      "metadata": {
        "id": "IMBKh0nsSQXc"
      }
    },
    {
      "cell_type": "markdown",
      "source": [
        "## **3. Mypy**\n",
        "\n",
        "### **What it is:**\n",
        "A static type checker (installed with pip install mypy).\n",
        "Works at development time, not at runtime.\n",
        "\n",
        "### **What it gives you:**\n",
        "* Checks that your code follows type hints\n",
        "* Detects mismatches before you run the program\n",
        "* Helps maintain large codebases\n",
        "\n",
        "### **Limitations:**\n",
        "* No runtime checks\n",
        "* Just a linter — if you ignore warnings, your code still runs\n",
        "\n",
        "✅ Great for developer productivity\n",
        "❌ Doesn’t protect you at runtime"
      ],
      "metadata": {
        "id": "ucm2SQ7sSq0V"
      }
    },
    {
      "cell_type": "code",
      "source": [
        "def add(x: int, y: int) -> int:\n",
        "    return x + y\n",
        "\n",
        "print(add(\"5\", \"7\"))   # ❌ Runtime: \"57\" (string concat)"
      ],
      "metadata": {
        "id": "NYMLmR_bVIW7"
      },
      "execution_count": null,
      "outputs": []
    },
    {
      "cell_type": "markdown",
      "source": [
        "| Feature            | Dataclass ✅            | Pydantic ✅                | Mypy ✅              |\n",
        "| ------------------ | ---------------------- | ------------------------- | ------------------- |\n",
        "| Auto `__init__`    | ✅                      | ✅                         | ❌                   |\n",
        "| Runtime validation | ❌                      | ✅                         | ❌                   |\n",
        "| Type hints support | ✅ (not enforced)       | ✅ (enforced + casting)    | ✅ (static analysis) |\n",
        "| Third-party needed | ❌ Built-in             | ✅ Yes                     | ✅ Yes               |\n",
        "| Best for           | Simple structured data | APIs, configs, user input | Catching bugs early |\n"
      ],
      "metadata": {
        "id": "Lz6aSjSFV2_v"
      }
    }
  ]
}