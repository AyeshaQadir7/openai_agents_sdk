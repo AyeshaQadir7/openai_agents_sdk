{
  "cells": [
    {
      "cell_type": "markdown",
      "metadata": {
        "id": "y8-c8cfI93w8"
      },
      "source": [
        "# **AI Agent With OpenAI API Key & Agents SDK**"
      ]
    },
    {
      "cell_type": "markdown",
      "metadata": {
        "id": "FuVwimxV0B9P"
      },
      "source": [
        "## Benefits of Using **OpenAI API Key** vs. Other LLM API Keys\n",
        "\n",
        "Other providers (Anthropic Claude, Gemini, Llama APIs, etc.) usually give **just the raw model API**. That means:\n",
        "\n",
        "* You send a prompt → you get a response.\n",
        "* If you want tools, memory, safety, multi-agent systems → you must code it all yourself.\n",
        "\n",
        "✅ With **OpenAI API Key + Agents SDK**, you get extra features out of the box:\n",
        "\n",
        "<br>\n",
        "\n",
        "---\n",
        "\n",
        "<br>\n",
        "\n",
        "### **Key Benefits of OpenAI API Key + Agents SDK**\n",
        "\n",
        "1. **Full Agentic Framework**\n",
        "\n",
        "   * OpenAI doesn’t just give you a model → it gives you a full **agent framework** with primitives:\n",
        "\n",
        "     * Agents, Sessions, Guardrails, Handoffs.\n",
        "   * Saves weeks of development compared to wiring LLMs manually.\n",
        "\n",
        "<br>\n",
        "\n",
        "---\n",
        "\n",
        "<br>\n",
        "\n",
        "2. **Better Tool Integration (Function Calling)**\n",
        "\n",
        "   * OpenAI models are **the most advanced at tool use** (structured outputs, JSON mode, function calls).\n",
        "   * Other LLMs often need prompt hacks to call APIs correctly.\n",
        "   * Example: Flight booking API, Calculator, Database queries → GPT does this naturally.\n",
        "\n",
        "<br>\n",
        "\n",
        "---\n",
        "\n",
        "<br>\n",
        "\n",
        "3. **Built-in Safety & Guardrails**\n",
        "\n",
        "   * OpenAI has **guardrails** you can configure directly.\n",
        "   * Other APIs just return text—you must bolt on your own moderation and safety.\n",
        "   * Example: Prevent leaking secrets, filter harmful requests.\n",
        "\n",
        "<br>\n",
        "\n",
        "---\n",
        "\n",
        "<br>\n",
        "\n",
        "4. **Multi-Agent Collaboration (Handoffs)**\n",
        "\n",
        "   * Agents can **pass tasks to other agents** (customer support bot → billing bot).\n",
        "   * Other LLMs don’t have this feature by default.\n",
        "\n",
        "<br>\n",
        "\n",
        "---\n",
        "\n",
        "<br>\n",
        "\n",
        "5. **Sessions = Memory Management**\n",
        "\n",
        "   * SDK handles **conversation history** smartly (tokens, summarization, context management).\n",
        "   * With other LLMs, you need to build your own memory system.\n",
        "\n",
        "<br>\n",
        "\n",
        "---\n",
        "\n",
        "<br>\n",
        "\n",
        "6. **Ecosystem Benefits**\n",
        "\n",
        "   * OpenAI ecosystem → Playground, fine-tuning, APIs, soon agent marketplace.\n",
        "   * Your API key works seamlessly across these.\n",
        "   * Other providers may lack ecosystem or community support.\n",
        "\n",
        "<br>\n",
        "\n",
        "---\n",
        "\n",
        "<br>\n",
        "\n",
        "### **Quick Analogy**\n",
        "\n",
        "* Using **just an LLM API key** from others → Like buying a raw engine. You must build the whole car yourself.\n",
        "* Using **OpenAI API key with Agents SDK** → Like buying a full Tesla. Engine, safety features, autopilot (agents), navigation (sessions) are already integrated. 🚗⚡\n",
        "\n",
        "<br>\n",
        "\n",
        "---\n",
        "\n",
        "<br>\n",
        "\n",
        "### **Summary**\n",
        "\n",
        "* **AI Agent = model + role + tools + memory + safety.**\n",
        "* **OpenAI API Key** unlocks GPT models.\n",
        "* **Agents SDK** turns GPT into full agents with primitives (Agents, Handoffs, Guardrails, Sessions).\n",
        "* **Benefits vs. other API keys**: integrated agent framework, better tool use, built-in guardrails, session memory, multi-agent teamwork, ecosystem support.\n"
      ]
    },
    {
      "cell_type": "markdown",
      "metadata": {
        "id": "sogKzYwf-H8q"
      },
      "source": [
        "## **Step by step Guide: 🔽**\n",
        "\n",
        "### **Step 01**\n",
        "* Go to [OpenAI Platform](https://platform.openai.com/) and generate an api key\n",
        "* Add the key to envoirment variable\n",
        "\n",
        "---\n",
        "\n",
        "### **Step 02**\n",
        "\n",
        "* Run the command\n",
        "\n",
        "\n",
        "```\n",
        "pip install -qU openai-agents\n",
        "```\n",
        "\n",
        "**-q**: quite mode hides the logs that shows while installing\n",
        "\n",
        "**U**: if installed and then update\n",
        "\n",
        "---\n",
        "\n",
        "### **Step 03**\n",
        "\n",
        "import ```nest_asyncio``` to run asynchronus code in colab\n",
        "\n",
        "---\n",
        "\n",
        "### **Step 04**\n",
        "\n",
        "import ```from google.colab import userdata``` to imports the userdata module from Google Colab. The userdata module allows access to \"Secrets\" which are securely stored values, such as API keys.\n",
        "\n",
        "---\n",
        "\n",
        "```os.environ['OPENAI_API_KEY'] = API_KEY``` sets an environment variable named 'OPENAI_API_KEY' within the Colab environment to the value retrieved in the previous step."
      ]
    },
    {
      "cell_type": "code",
      "execution_count": null,
      "metadata": {
        "colab": {
          "base_uri": "https://localhost:8080/"
        },
        "collapsed": true,
        "id": "iJCbe9CkEA-J",
        "outputId": "c0496093-d6f1-450b-81ab-68a8c179dcff"
      },
      "outputs": [],
      "source": [
        "!pip install openai==0.28.0"
      ]
    },
    {
      "cell_type": "code",
      "execution_count": 7,
      "metadata": {
        "collapsed": true,
        "id": "rZcgFHkP9pSN"
      },
      "outputs": [],
      "source": [
        "!pip install -qU openai-agents"
      ]
    },
    {
      "cell_type": "code",
      "execution_count": 4,
      "metadata": {
        "id": "f1uwDaYv-3cx"
      },
      "outputs": [],
      "source": [
        "import nest_asyncio\n",
        "nest_asyncio.apply()"
      ]
    },
    {
      "cell_type": "code",
      "execution_count": 5,
      "metadata": {
        "id": "T_NibL5j_Ajw"
      },
      "outputs": [],
      "source": [
        "import os\n",
        "from google.colab import userdata\n",
        "\n",
        "API_KEY = userdata.get('OPENAI_API_KEY')\n",
        "os.environ['OPENAI_API_KEY'] = API_KEY"
      ]
    },
    {
      "cell_type": "code",
      "execution_count": null,
      "metadata": {
        "collapsed": true,
        "id": "coCorEhaAtWh"
      },
      "outputs": [],
      "source": [
        "# Synchronous Code\n",
        "\n",
        "from agents import Agent, Runner\n",
        "\n",
        "def main():\n",
        "  agent = Agent(\n",
        "\n",
        "      name= \"Assistant\", # Optional name for agent\n",
        "      instructions= \"You are a helpful assistant.\" # System prompt\n",
        "  )\n",
        "\n",
        "  # Runner is used to run and managed agent loop\n",
        "  result = Runner.run_sync(\n",
        "      starting_agent= agent,\n",
        "      input= \"What is your name?\" # User prompt\n",
        "  )\n",
        "\n",
        "  print(result.final_output)\n",
        "\n",
        "asyncio.run(main())"
      ]
    },
    {
      "cell_type": "code",
      "execution_count": null,
      "metadata": {
        "id": "6-9Ut1lADX85"
      },
      "outputs": [],
      "source": [
        "# Asynchronous Code\n",
        "import asyncio\n",
        "from openai import AsyncOpenAI #chat completion\n",
        "from agents import Agent, Runner\n",
        "\n",
        "async def main():\n",
        "  agent = Agent(\n",
        "      name= \"Assistant\",\n",
        "      instructions= \"You are a helpful assistant.\"\n",
        "  )\n",
        "\n",
        "  result = await Runner.run(\n",
        "      starting_agent= agent,\n",
        "      input= \"What is your name?\"\n",
        "  )\n",
        "\n",
        "  print(result.final_output)\n",
        "\n",
        "asyncio.run(main())"
      ]
    }
  ],
  "metadata": {
    "colab": {
      "provenance": []
    },
    "kernelspec": {
      "display_name": "Python 3",
      "name": "python3"
    },
    "language_info": {
      "name": "python"
    }
  },
  "nbformat": 4,
  "nbformat_minor": 0
}
