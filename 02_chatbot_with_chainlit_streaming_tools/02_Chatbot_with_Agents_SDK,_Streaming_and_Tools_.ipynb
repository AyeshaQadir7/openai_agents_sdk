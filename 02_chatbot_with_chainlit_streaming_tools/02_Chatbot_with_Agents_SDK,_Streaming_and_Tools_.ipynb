{
  "nbformat": 4,
  "nbformat_minor": 0,
  "metadata": {
    "colab": {
      "provenance": [],
      "collapsed_sections": [
        "QmG9oZcMaEhp"
      ]
    },
    "kernelspec": {
      "name": "python3",
      "display_name": "Python 3"
    },
    "language_info": {
      "name": "python"
    }
  },
  "cells": [
    {
      "cell_type": "markdown",
      "source": [
        "## <font color=orange> **What is an Agent:** <font/>\n",
        "Agent is an AI model that task autonomous actions. it has tools and power of taking autonomous actions"
      ],
      "metadata": {
        "id": "u4lbHFQ9-ZdO"
      }
    },
    {
      "cell_type": "markdown",
      "source": [
        "## **Basic configuration**\n",
        "The most common properties of an agent you'll configure are:\n",
        "\n",
        "* ```name:``` A required string that identifies your agent.\n",
        "\n",
        "* ```instructions:``` also known as a developer message or system prompt.\n",
        "\n",
        "* ```model:``` which LLM to use, and optional model_settings to configure model tuning parameters like temperature, top_p, etc.\n",
        "\n",
        "* ```tools:``` Tools that the agent can use to achieve its tasks.\n",
        "\n"
      ],
      "metadata": {
        "id": "QmG9oZcMaEhp"
      }
    },
    {
      "cell_type": "code",
      "source": [
        "from agents import Agent, ModelSettings, function_tool\n",
        "\n",
        "@function_tool\n",
        "def get_weather(city: str) -> str:\n",
        "     \"\"\"returns weather info for the specified city.\"\"\"\n",
        "    return f\"The weather in {city} is sunny\"\n",
        "\n",
        "agent = Agent(\n",
        "    name=\"Haiku agent\",\n",
        "    instructions=\"Always respond in haiku form\",\n",
        "    model=\"o3-mini\",\n",
        "    tools=[get_weather],\n",
        ")"
      ],
      "metadata": {
        "id": "WpF-YxhJa3B_"
      },
      "execution_count": null,
      "outputs": []
    },
    {
      "cell_type": "markdown",
      "source": [
        "### **External Client:**\n",
        "\n",
        "When use 3rd party LLM with Openai Agents SDK\n",
        "\n",
        "```\n",
        "external_client = AsyncOpenAI(\n",
        "    api_key=GEMINI_API_KEY,\n",
        "    base_url=\"https://generativelanguage.googleapis.com/v1beta/openai/\",\n",
        ")\n",
        "```\n",
        "\n",
        "### **Model:**\n",
        "\n",
        "Adding the model that we want to use with external client if 3rd party LLM\n",
        "```\n",
        "external_client = AsyncOpenAI(\n",
        "    api_key=GEMINI_API_KEY,\n",
        "    base_url=\"https://generativelanguage.googleapis.com/v1beta/openai/\",\n",
        ")\n",
        "```\n",
        "\n",
        "\n",
        "### **Run Config:**\n",
        "\n",
        "When running the agent we have to add few run time configurations\n",
        "\n",
        "```\n",
        "external_client = AsyncOpenAI(\n",
        "    api_key=GEMINI_API_KEY,\n",
        "    base_url=\"https://generativelanguage.googleapis.com/v1beta/openai/\",\n",
        ")\n",
        "```\n",
        "\n",
        "### **Run Level Config:**\n",
        "This configuration reflects the current operational state, when call the agent\n",
        "\n",
        "### **Agent Level Config:**\n",
        "\n",
        "Adding Configurations to indvisual or group of agents within a system.\n",
        "\n",
        "### **Global Level Config:**\n",
        "\n",
        "Adding configurations settingd to global level within a system or application.\n",
        "\n"
      ],
      "metadata": {
        "id": "wE2zQdYOBYE9"
      }
    },
    {
      "cell_type": "markdown",
      "source": [
        "## <font color=orange> **Runner Methods:** <font/>\n",
        "\n",
        "### **Runner.run()**\n",
        "This is an asynchronous method, for non blocking execution.\n",
        "* Runs in async mode (you need await)\n",
        "* Good for apps that already run in async environments\n",
        "* Handles agent looping until done\n",
        "* Can return any type of final output the agent is designed for\n",
        "\n",
        "```\n",
        "result = await Runner.run(\n",
        "    starting_agent=my_agent,\n",
        "    input=\"Hello!\",\n",
        "    max_turns=5\n",
        ")\n",
        "```\n",
        "\n",
        "### **Runner.run_sync()**\n",
        "This is  synchronous method, it warps Runner.run() internally and provides a blocking interface.\n",
        "```\n",
        "result = Runner.run_sync(\n",
        "    starting_agent=my_agent,\n",
        "    input=\"Hello!\"\n",
        ")\n",
        "```\n",
        "* Synchronous (no await)\n",
        "* Perfect for small scripts\n",
        "* Literally just wraps around run() but  blocks until finished\n",
        "* Will not work if you already have an async event loop (like in Jupyter)\n",
        "\n",
        "### **Runner.run_streamed()**\n",
        "This is an asynchronous method that provides streaming capabilities, allowing for real-time updates.\n",
        "```\n",
        "stream = Runner.run_streamed(\n",
        "    starting_agent=my_agent,\n",
        "    input=\"Hello!\"\n",
        ")\n",
        "for event in stream.stream_events():\n",
        "    print(event)\n",
        "```\n",
        "* Starts the agent in streaming mode\n",
        "* Lets you see events as they happen\n",
        "* Useful for real-time UI updates or progress indicators\n",
        "* Returns a RunResultStreaming object\n",
        "\n",
        "**How the Loop Works**\n",
        "Here’s the brain flow inside the runner:\n",
        "\n",
        "1. Send input to agent\n",
        "2. If final answer found → stop & return it\n",
        "3. If agent hands off → run new agent\n",
        "4. If agent wants tools → run them & repeat\n",
        "5. If turns > max_turns → throw MaxTurnsExceeded\n",
        "6. If guardrail trips → throw GuardrailTripwireTriggered\n",
        "\n"
      ],
      "metadata": {
        "id": "0ENsGAikiYw7"
      }
    },
    {
      "cell_type": "markdown",
      "source": [
        "# <font color=orange> **Tools**<font/>\n",
        "Think of Tools as superpowers you give your agent.\n",
        "\n",
        "Without tools, an agent can only **think** and **respond** in text.\n",
        "\n",
        "With tools, the agent can **do things** like call APIs, run calculations, look up a database, send emails, generate images, etc.\n",
        "\n",
        "**Types of Tools**\n",
        "###1. **Hosted Tools:**\n",
        "These are ready-made tools running on OpenAI's servers, accessable via the [OpenAIResponsesModel]\n",
        "\n",
        "You don’t have to write the logic or host anything yourself.\n",
        "\n",
        "**Example:**\n",
        "\n",
        "* **WebSearchTool:** Enables agents to perform web seraches.\n",
        "* **FileSearchTool:** Allows retrieval of information from OpenAI Vecotor  Stores.\n",
        "* **ComputerTool:** Facilitates automation of computer-based tasks.\n",
        "\n",
        "```\n",
        "from agents import Agent, FileSearchTool, Runner, WebSearchTool\n",
        "\n",
        "agent = Agent(\n",
        "    name=\"Assistant\",\n",
        "    tools=[\n",
        "        WebSearchTool(),\n",
        "        FileSearchTool(\n",
        "            max_num_results=3,\n",
        "            vector_store_ids=[\"VECTOR_STORE_ID\"],\n",
        "        ),\n",
        "    ],\n",
        ")\n",
        "\n",
        "async def main():\n",
        "    result = await Runner.run(agent, \"Which coffee shop should I go to, taking into account my preferences and the weather today in SF?\")\n",
        "    print(result.final_output)\n",
        "\n",
        "```\n",
        "\n",
        "###2. **Function Calling:**\n",
        " This feature allows agents to utilize any python function as a tool, enhancing thier versatility.\n",
        "\n",
        " ```\n",
        "from agents import Agent, FunctionTool, RunContextWrapper, function_tool\n",
        "\n",
        "@function_tool  \n",
        "async def fetch_weather(location: Location) -> str:\n",
        "    \n",
        "    \"\"\"Fetch the weather for a given location.\n",
        "    \"\"\"\n",
        "    # In real life, we'd fetch the weather from a weather API\n",
        "    return \"sunny\"\n",
        "\n",
        "agent = Agent(\n",
        "    name=\"Assistant\",\n",
        "    tools=[fetch_weather],  \n",
        ")\n",
        "\n",
        "```\n",
        "\n",
        "###3. **Agents as Tools:**\n",
        " Agents can employ other agents as tools, enbling hierarchical task management  without trnaferring  control.\n",
        "\n",
        "```\n",
        "from agents import Agent, Runner\n",
        "import asyncio\n",
        "\n",
        "spanish_agent = Agent(\n",
        "    name=\"Spanish agent\",\n",
        "    instructions=\"You translate the user's message to Spanish\",\n",
        ")\n",
        "\n",
        "french_agent = Agent(\n",
        "    name=\"French agent\",\n",
        "    instructions=\"You translate the user's message to French\",\n",
        ")\n",
        "\n",
        "orchestrator_agent = Agent(\n",
        "    name=\"orchestrator_agent\",\n",
        "    instructions=(\n",
        "        \"You are a translation agent. You use the tools given to you to translate.\"\n",
        "        \"If asked for multiple translations, you call the relevant tools.\"\n",
        "    ),\n",
        "    tools=[\n",
        "        spanish_agent.as_tool(\n",
        "            tool_name=\"translate_to_spanish\",\n",
        "            tool_description=\"Translate the user's message to Spanish\",\n",
        "        ),\n",
        "        french_agent.as_tool(\n",
        "            tool_name=\"translate_to_french\",\n",
        "            tool_description=\"Translate the user's message to French\",\n",
        "        ),\n",
        "    ],\n",
        ")\n",
        "\n",
        "async def main():\n",
        "    result = await Runner.run(orchestrator_agent, input=\"Say 'Hello, how are you?' in Spanish.\")\n",
        "    print(result.final_output)\n",
        "```"
      ],
      "metadata": {
        "id": "iAxa4GZvyrDV"
      }
    },
    {
      "cell_type": "code",
      "source": [
        "from agents.tool import function_tool"
      ],
      "metadata": {
        "id": "0dl0zQ0R3qkt"
      },
      "execution_count": null,
      "outputs": []
    },
    {
      "cell_type": "code",
      "source": [
        "@function_tool(\"get_weather\")\n",
        "def get_weather(location: str, unit: str = \"C\") ->str:\n",
        "  \"\"\"\n",
        "  Fetch the weather for a given location, returning a short description.\n",
        "  \"\"\"\n",
        "  #Example logic\n",
        "  return f\"The weather in {location} is 22 degree {unit}.\""
      ],
      "metadata": {
        "id": "ZJFly6J-3wPc"
      },
      "execution_count": null,
      "outputs": []
    },
    {
      "cell_type": "code",
      "source": [
        "@funtion_tool(\"giaic_student_finder\")\n",
        "def student_finder(student_roll: int) -> str:\n",
        "  \"\"\"\n",
        "  find the GIAIC student based on their roll number\n",
        "  \"\"\"\n",
        "  data = {\n",
        "      1:\"Ayesha\",\n",
        "      2:\"Anum\",\n",
        "      3:\"Fatima\",\n",
        "  }\n",
        "  return data.get(student_roll, \"Not Found\")"
      ],
      "metadata": {
        "id": "djVMMNwA5A3q"
      },
      "execution_count": null,
      "outputs": []
    },
    {
      "cell_type": "code",
      "source": [
        "import asyncio\n",
        "\n",
        "from agents import Agent, Runner\n",
        "\n",
        "async def main():\n",
        "  agent = Agent(\n",
        "      name= \"Assistant\",\n",
        "      instructions=\"You only respond in haikus.\",\n",
        "      tools=[get_weather, student_finder], # add tools here\n",
        "      model=model\n",
        "  )\n",
        "\n",
        "  reult = await Runner.run(agent, \"Share GIAIC roll no1 student details.\")\n",
        "  if __name__ == \"__main__\":\n",
        "    asyncio.run(main)"
      ],
      "metadata": {
        "id": "GbbGiZXB5oll"
      },
      "execution_count": null,
      "outputs": []
    }
  ]
}